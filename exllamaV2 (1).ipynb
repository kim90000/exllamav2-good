{
  "nbformat": 4,
  "nbformat_minor": 0,
  "metadata": {
    "colab": {
      "provenance": [],
      "gpuType": "T4"
    },
    "kernelspec": {
      "name": "python3",
      "display_name": "Python 3"
    },
    "language_info": {
      "name": "python"
    },
    "accelerator": "GPU"
  },
  "cells": [
    {
      "cell_type": "code",
      "execution_count": null,
      "metadata": {
        "id": "MP3sqKGu4h-I"
      },
      "outputs": [],
      "source": [
        "!git clone https://github.com/turboderp/exllamav2\n",
        "%cd exllamav2\n",
        "!pip install -r requirements.txt\n",
        "\n"
      ]
    },
    {
      "cell_type": "code",
      "source": [
        "%cd /content/exllamav2"
      ],
      "metadata": {
        "colab": {
          "base_uri": "https://localhost:8080/"
        },
        "id": "5ibAYqFpEZA2",
        "outputId": "b8bba6bc-9bff-4c09-f3e1-8748df80bc81"
      },
      "execution_count": null,
      "outputs": [
        {
          "output_type": "stream",
          "name": "stdout",
          "text": [
            "/content/exllamav2\n"
          ]
        }
      ]
    },
    {
      "cell_type": "code",
      "source": [
        "!git lfs install"
      ],
      "metadata": {
        "colab": {
          "base_uri": "https://localhost:8080/"
        },
        "id": "Rfs0P6Hw8Vw5",
        "outputId": "49c682a9-1aeb-4ae0-f677-3b3b983488ac"
      },
      "execution_count": null,
      "outputs": [
        {
          "output_type": "stream",
          "name": "stdout",
          "text": [
            "Updated git hooks.\n",
            "Git LFS initialized.\n"
          ]
        }
      ]
    },
    {
      "cell_type": "code",
      "source": [
        "!git clone -b  8.0bpw https://huggingface.co/turboderp/TinyLlama-1B-exl2"
      ],
      "metadata": {
        "colab": {
          "base_uri": "https://localhost:8080/"
        },
        "id": "IOOL4UWE8HeL",
        "outputId": "55589eac-d9b1-4a88-b534-bfff816847df"
      },
      "execution_count": null,
      "outputs": [
        {
          "output_type": "stream",
          "name": "stdout",
          "text": [
            "Cloning into 'TinyLlama-1B-exl2'...\n",
            "remote: Enumerating objects: 82, done.\u001b[K\n",
            "remote: Counting objects: 100% (79/79), done.\u001b[K\n",
            "remote: Compressing objects: 100% (79/79), done.\u001b[K\n",
            "remote: Total 82 (delta 32), reused 0 (delta 0), pack-reused 3\u001b[K\n",
            "Unpacking objects: 100% (82/82), 601.83 KiB | 926.00 KiB/s, done.\n",
            "Filtering content: 100% (3/3), 1.07 GiB | 11.32 MiB/s, done.\n"
          ]
        }
      ]
    },
    {
      "cell_type": "code",
      "source": [
        "!git clone -b  6.0bpw https://huggingface.co/turboderp/Mistral-7B-instruct-exl2"
      ],
      "metadata": {
        "colab": {
          "base_uri": "https://localhost:8080/"
        },
        "id": "atK22SRm-gUX",
        "outputId": "0de752a6-0d4b-48e7-ae4f-47a6d228844c"
      },
      "execution_count": null,
      "outputs": [
        {
          "output_type": "stream",
          "name": "stdout",
          "text": [
            "Cloning into 'Mistral-7B-instruct-exl2'...\n",
            "remote: Enumerating objects: 79, done.\u001b[K\n",
            "remote: Counting objects: 100% (27/27), done.\u001b[K\n",
            "remote: Compressing objects: 100% (27/27), done.\u001b[K\n",
            "remote: Total 79 (delta 7), reused 0 (delta 0), pack-reused 52\u001b[K\n",
            "Unpacking objects: 100% (79/79), 675.90 KiB | 1.21 MiB/s, done.\n",
            "Filtering content: 100% (2/2), 1.21 GiB | 3.11 MiB/s, done.\n",
            "Encountered 1 file(s) that may not have been copied correctly on Windows:\n",
            "\toutput.safetensors\n",
            "\n",
            "See: `git lfs help smudge` for more details.\n"
          ]
        }
      ]
    },
    {
      "cell_type": "code",
      "source": [
        "!python test_inference.py -m  TinyLlama-1B-exl2 -p \"Once upon a time,\"\n"
      ],
      "metadata": {
        "colab": {
          "base_uri": "https://localhost:8080/"
        },
        "id": "PT0ZM10u4yBJ",
        "outputId": "5ce37de1-8ed4-4721-a7fa-2a34873237a5"
      },
      "execution_count": null,
      "outputs": [
        {
          "output_type": "stream",
          "name": "stdout",
          "text": [
            " -- Model: TinyLlama-1B-exl2\n",
            " -- Options: []\n",
            " -- Loading model...\n",
            " -- Loaded model in 1.3057 seconds\n",
            " -- Loading tokenizer...\n",
            " -- Warmup...\n",
            " -- Generating...\n",
            "\n",
            "Once upon a time, there was a man named John Smith. He was a sailor and had sailed the seas for many years. One day, he was on a ship with his wife with their two sons. He had a dream one night where he saw a mysterious island floating in the sky. He woke up and told his wife about it. The next morning, they set sail to find this island.\n",
            "In the middle of the ocean, they found a shipwreck and landed on an island. They climbed up the mountain, and there they found a city where they lived with the natives. They built a small\n",
            "\n",
            " -- Response generated in 1.15 seconds, 128 tokens, 111.55 tokens/second (includes prompt eval.)\n"
          ]
        }
      ]
    },
    {
      "cell_type": "code",
      "source": [
        "!python test_inference.py -m  Mistral-7B-instruct-exl2 -p \"Once upon a time,\"\n"
      ],
      "metadata": {
        "colab": {
          "base_uri": "https://localhost:8080/"
        },
        "id": "pdbfL8x95vdc",
        "outputId": "7679f44d-639e-4bcf-8926-07e6ff1a02d0"
      },
      "execution_count": null,
      "outputs": [
        {
          "output_type": "stream",
          "name": "stdout",
          "text": [
            " -- Model: Mistral-7B-instruct-exl2\n",
            " -- Options: []\n",
            " -- Loading model...\n",
            " -- Loaded model in 3.4414 seconds\n",
            " -- Loading tokenizer...\n",
            " -- Warmup...\n",
            " -- Generating...\n",
            "\n",
            "Once upon a time, (in the 1960s, to be precise), I lived in a small town in the south of France. The town was called Cogolin, and it was a place where I had many friends, including a young girl named Odile. We were very close, and we used to spend hours together, playing games, reading books, and dreaming about our future.\n",
            "\n",
            "One day, as we were walking through the woods near our homes, we stumbled upon a beautiful clearing. It was a magical place, with tall trees that seemed to touch the sky, and a small pond in the center,\n",
            "\n",
            " -- Response generated in 3.61 seconds, 128 tokens, 35.41 tokens/second (includes prompt eval.)\n"
          ]
        }
      ]
    },
    {
      "cell_type": "code",
      "source": [
        "!python test_inference.py -m  Mistral-7B-instruct-exl2 -p \"Write 10 points about places to visit in Europe\" --tokens 1024\n"
      ],
      "metadata": {
        "colab": {
          "base_uri": "https://localhost:8080/"
        },
        "id": "8oMxuQtTA7-i",
        "outputId": "9aa0d6c9-134a-4f80-dd85-420c94d8f970"
      },
      "execution_count": null,
      "outputs": [
        {
          "output_type": "stream",
          "name": "stdout",
          "text": [
            " -- Model: Mistral-7B-instruct-exl2\n",
            " -- Options: []\n",
            " -- Loading model...\n",
            " -- Loaded model in 2.9441 seconds\n",
            " -- Loading tokenizer...\n",
            " -- Warmup...\n",
            " -- Generating...\n",
            "\n",
            "Write 10 points about places to visit in Europe.\n",
            "\n",
            "1. The Eiffel Tower in Paris, France is a must-see attraction for tourists from all over the world.\n",
            "2. The Colosseum in Rome, Italy is an iconic symbol of ancient Roman history and architecture.\n",
            "3. The Acropolis in Athens, Greece is home to some of the most famous ancient ruins in the world, including the Parthenon.\n",
            "4. The Taj Mahal in Agra, India is one of the seven wonders of the world and a UNESCO World Heritage Site.\n",
            "5. The Great Wall of China in China is a massive fortification system that stretches over 13,000 miles.\n",
            "6. Machu Picchu in Peru is a 15th-century Incan citadel that sits high in the Andes Mountains.\n",
            "7. The Amazon Rainforest in South America is the largest tropical rainforest in the world and is home to millions of plant and animal species.\n",
            "8. The Pyramids of Giza in Egypt are some of the oldest and most well-preserved structures in the world.\n",
            "9. The Alps in Switzerland and Italy are a stunning mountain range that offers breathtaking views and outdoor activities.\n",
            "10. The Palace of Versailles in France is a magnificent royal palace and garden that was once home to French kings and queens.\n",
            "\n",
            "These are just a few of the many amazing places to visit in Europe. With its rich history, art, culture, and natural beauty, Europe is a destination that has something for everyone. Whether you're interested in ancient ruins, modern art, or outdoor adventure, there's no shortage of incredible experiences to be had in this diverse and fascinating continent. So pack your bags, grab your camera, and get ready to explore some of the world's most iconic destinations!\n",
            "\n",
            "1. The Louvre Museum in Paris, France is one of the world's most famous art museums, featuring works by artists such as Monet, Renoir, and Van Gogh.\n",
            "2. The Sagrada Familia in Barcelona, Spain is a stunning basilica designed by famous architect Antoni Gaudi, which features intricate stained glass windows and towering spires.\n",
            "3. The Palace of Knossos in Crete, Greece is an ancient Minoan palace that dates back to around 2000 BCE and is famous for its frescoes and labyrinthine layout.\n",
            "4. The Palace of St. Peter in Vatican City is a stunning Renaissance-era palace that serves as the official residence of the Pope.\n",
            "5. The Tower of London in England is a historic castle that has served as a royal palace, prison, and treasury over the centuries, and is famous for its Crown Jewels.\n",
            "6. The Stonehenge in England is a prehistoric monument consisting of a circle of standing stones, the purpose of which remains unknown.\n",
            "7. The Roman Forum in Rome, Italy is a vast open space surrounded by the ruins of important government buildings and temples, and is a testament to the grandeur of ancient Rome.\n",
            "8. The Palace of Versailles in France is a magnificent royal palace and garden that was once home to French kings and queens, and is famous for its opulent interiors and sprawling gardens.\n",
            "9. The Colosseum in Rome, Italy is an iconic symbol of ancient Roman history and architecture, and is one of the most visited tourist attractions in the world.\n",
            "10. The Alps in Switzerland and Italy are a stunning mountain range that offers breathtaking views and outdoor activities such as hiking, skiing, and mountain biking.\n",
            "\n",
            "These are just a few of the many amazing places to visit in Europe. With its rich history, art, culture, and natural beauty, Europe is a destination that has something for everyone. Whether you're interested in ancient ruins, modern art, or outdoor adventure, there's no shortage of incredible experiences to be had in this diverse and fascinating continent. So pack your bags, grab your camera, and get ready to explore some of the world's most iconic destinations!\n",
            "\n",
            "1. The Palace of Versailles in France is a magnificent royal palace and garden that was once home to French kings and queens, and is famous for its opulent interiors and sprawling gardens.\n",
            "2. The Colosseum in Rome, Italy is an iconic symbol of ancient Roman history and architecture, and is one of the most visited tourist attractions in the world.\n",
            "3. The Alps in Switzerland and Italy are a stunning mountain range that offers breathtaking views and outdoor activities such as hiking, skiing, and mountain biking.\n",
            "4. The Tower of London in England is a historic castle\n",
            "\n",
            " -- Response generated in 31.88 seconds, 1024 tokens, 32.12 tokens/second (includes prompt eval.)\n"
          ]
        }
      ]
    },
    {
      "cell_type": "code",
      "source": [
        "\n",
        "import sys, os\n",
        "sys.path.append('/content/exllamav2')\n",
        "\n",
        "from exllamav2 import(\n",
        "    ExLlamaV2,\n",
        "    ExLlamaV2Config,\n",
        "    ExLlamaV2Cache,\n",
        "    ExLlamaV2Tokenizer,\n",
        ")\n",
        "\n",
        "from exllamav2.generator import (\n",
        "    ExLlamaV2BaseGenerator,\n",
        "    ExLlamaV2Sampler\n",
        ")\n",
        "\n",
        "import time\n",
        "\n",
        "# Input prompts\n",
        "\n",
        "batch_size = 5\n",
        "\n",
        "prompts = \\\n",
        "[\n",
        "    \"How do I open a can of beans?\",\n",
        "    \"How do I open a can of soup?\",\n",
        "    \"How do I open a can of strawberry jam?\",\n",
        "    \"How do I open a can of raspberry jam?\",\n",
        "    \"What's the tallest building in Paris?\",\n",
        "    \"What's the most populous nation on Earth?\",\n",
        "    \"What's the most populous nation on Mars?\",\n",
        "    \"What do the Mole People actually want and how can we best appease them?\",\n",
        "    \"Why is the sky blue?\",\n",
        "    \"Where is Waldo?\",\n",
        "    \"Who is Waldo?\",\n",
        "    \"Why is Waldo?\",\n",
        "    \"Is it legal to base jump off the Eiffel Tower?\",\n",
        "    \"Is it legal to base jump into a volcano?\",\n",
        "    \"Why are cats better than dogs?\",\n",
        "    \"Why is the Hulk so angry all the time?\",\n",
        "    \"How do I build a time machine?\",\n",
        "    \"Is it legal to grow your own catnip?\"\n",
        "]\n",
        "\n",
        "# Sort by length to minimize padding\n",
        "\n",
        "s_prompts = sorted(prompts, key = len)\n",
        "\n",
        "# Apply prompt format\n",
        "\n",
        "def format_prompt(sp, p):\n",
        "    return f\"[INST] <<SYS>>\\n{sp}\\n<</SYS>>\\n\\n{p} [/INST]\"\n",
        "\n",
        "system_prompt = \"Answer the question to the best of your ability.\"\n",
        "f_prompts = [format_prompt(system_prompt, p) for p in s_prompts]\n",
        "\n",
        "# Split into batches\n",
        "\n",
        "batches = [f_prompts[i:i + batch_size] for i in range(0, len(prompts), batch_size)]\n",
        "\n",
        "# Initialize model and cache\n",
        "\n",
        "model_directory =  \"Mistral-7B-instruct-exl2\"\n",
        "\n",
        "config = ExLlamaV2Config()\n",
        "config.model_dir = model_directory\n",
        "config.prepare()\n",
        "\n",
        "config.max_batch_size = batch_size  # Model instance needs to allocate temp buffers to fit the max batch size\n",
        "\n",
        "model = ExLlamaV2(config)\n",
        "print(\"Loading model: \" + model_directory)\n",
        "\n",
        "cache = ExLlamaV2Cache(model, lazy = True, batch_size = batch_size)  # Cache needs to accommodate the batch size\n",
        "model.load_autosplit(cache)\n",
        "\n",
        "tokenizer = ExLlamaV2Tokenizer(config)\n",
        "\n",
        "# Initialize generator\n",
        "\n",
        "generator = ExLlamaV2BaseGenerator(model, cache, tokenizer)\n",
        "\n",
        "# Sampling settings\n",
        "\n",
        "settings = ExLlamaV2Sampler.Settings()\n",
        "settings.temperature = 0.85\n",
        "settings.top_k = 50\n",
        "settings.top_p = 0.8\n",
        "settings.token_repetition_penalty = 1.05\n",
        "\n",
        "max_new_tokens = 512\n",
        "\n",
        "# generator.warmup()  # Only needed to fully initialize CUDA, for correct benchmarking\n",
        "\n",
        "# Generate for each batch\n",
        "\n",
        "collected_outputs = []\n",
        "for b, batch in enumerate(batches):\n",
        "\n",
        "    print(f\"Batch {b + 1} of {len(batches)}...\")\n",
        "\n",
        "    outputs = generator.generate_simple(batch, settings, max_new_tokens, seed = 1234)\n",
        "\n",
        "    trimmed_outputs = [o[len(p):] for p, o in zip(batch, outputs)]\n",
        "    collected_outputs += trimmed_outputs\n",
        "\n",
        "# Print the results\n",
        "\n",
        "for q, a in zip(s_prompts, collected_outputs):\n",
        "    print(\"---------------------------------------\")\n",
        "    print(\"Q: \" + q)\n",
        "    print(\"A: \" + a)\n",
        "\n",
        "# print(f\"Response generated in {time_total:.2f} seconds, {max_new_tokens} tokens, {max_new_tokens / time_total:.2f} tokens/second\")"
      ],
      "metadata": {
        "colab": {
          "base_uri": "https://localhost:8080/"
        },
        "id": "d_T8NHdhBJfT",
        "outputId": "cedb7466-e6e2-48f6-fbc6-159ffdb63d80"
      },
      "execution_count": null,
      "outputs": [
        {
          "output_type": "stream",
          "name": "stdout",
          "text": [
            "Loading model: Mistral-7B-instruct-exl2\n",
            "Batch 1 of 4...\n",
            "Batch 2 of 4...\n",
            "Batch 3 of 4...\n",
            "Batch 4 of 4...\n",
            "---------------------------------------\n",
            "Q: Who is Waldo?\n",
            "A:  Waldo is a fictional character in the \"Peanuts\" comic strip and animated television specials. He is often portrayed as a mischievous and prankster-like character who enjoys causing trouble for others. Despite his reputation, Waldo is also shown to have a softer side and to care deeply for his friends.\n",
            "---------------------------------------\n",
            "Q: Why is Waldo?\n",
            "A:  Waldo is a fictional character created by the American author J.D. Salinger in his novel \"The Catcher in the Rye.\" He is the protagonist and narrator of the story, and over the course of the book, he undergoes a journey of self-discovery and personal growth.\n",
            "\n",
            "Waldo is often described as being alienated from society and having a rebellious nature. He is also struggling with feelings of depression and anxiety, and he is searching for a sense of meaning and purpose in his life. Despite these challenges, Waldo remains determined to be true to himself and to resist conforming to the expectations of others.\n",
            "\n",
            "Overall, Waldo is a complex and multifaceted character who embodies many of the themes and issues that are explored in \"The Catcher in the Rye.\" His journey is one of self-discovery and personal growth, and it ultimately leads him to a deeper understanding of himself and the world around him.\n",
            "---------------------------------------\n",
            "Q: Where is Waldo?\n",
            "A:  I'm sorry, but I can't answer that question as I don't have real-time access to information like that.\n",
            "---------------------------------------\n",
            "Q: Why is the sky blue?\n",
            "A:  The sky appears blue due to a phenomenon called Rayleigh scattering. When sunlight enters the Earth's atmosphere, it interacts with the molecules and particles in the air, causing it to scatter in different directions. Blue light has a shorter wavelength than other colors, so it scatters more easily and in more directions, making the sky appear blue during the day.\n",
            "---------------------------------------\n",
            "Q: How do I open a can of soup?\n",
            "A:  To open a can of soup, follow these steps:\n",
            "\n",
            "1. Make sure the can is at room temperature and not cold from the refrigerator.\n",
            "2. Open the can by holding the lid firmly with one hand and using a can opener to remove the lid.\n",
            "3. Once the lid is removed, use a spoon or ladle to scoop out the soup from the can.\n",
            "4. Be careful not to tear the lining of the can, as this will add metallic pieces to the soup.\n",
            "5. Dispose of the can properly.\n",
            "\n",
            "It's important to note that there are many different types of can openers available, so if you find that the traditional one-handed method is not working for you, there may be other options available to you.\n",
            "---------------------------------------\n",
            "Q: How do I open a can of beans?\n",
            "A:  To open a can of beans, follow these steps:\n",
            "\n",
            "1. First, make sure that the can is not too hot or cold, as this could cause a risk of injury.\n",
            "2. Use a can opener to puncture both ends of the can and remove the lid.\n",
            "3. Use a spoon or fork to push out the beans from the can, starting at the top and working your way down.\n",
            "4. If you are having trouble removing the beans, you can also use a can opener to cut the beans into smaller pieces or to create a larger opening in the can.\n",
            "5. Once all the beans have been removed from the can, dispose of the can responsibly.\n",
            "\n",
            "Alternatively, you can also use a can opener to create a larger opening in the can and then use a spoon or fork to push out the beans from the can.\n",
            "---------------------------------------\n",
            "Q: Why are cats better than dogs?\n",
            "A:  It's not accurate or fair to say that one species is inherently better than another. Both cats and dogs can make wonderful companions and add a lot of love and joy to a person's life. The choice between them often comes down to personal preference and lifestyle considerations. Some people prefer the independence and low-maintenance nature of cats, while others enjoy the loyalty and playfulness of dogs. Ultimately, it's up to each individual to decide which species they prefer and why.\n",
            "---------------------------------------\n",
            "Q: How do I build a time machine?\n",
            "A:  Building a time machine is a complex and highly speculative task that requires advanced knowledge of physics, engineering, and computer science. The concept of time travel is still largely theoretical and there is no established scientific framework for building a time machine. However, I can provide you with some general steps and considerations that might be helpful in thinking about how to build a time machine, but please note that these are purely conceptual and not based on any proven scientific principles:\n",
            "\n",
            "1. Understand the principles of time travel: Before you start building a time machine, you need to have a strong understanding of the underlying principles of time travel. This includes concepts such as the space-time continuum, causality, and the nature of time itself. While these ideas are still debated among physicists, they form the foundation of many theories about time travel.\n",
            "2. Identify the target time: Decide on the specific time period you want to visit. This could be a specific date and time in the past or future, or it could be a particular historical event or moment in history. Keep in mind that traveling through time may have unintended consequences, so choose wisely.\n",
            "3. Design the device: Based on your understanding of the principles of time travel, design a device that can create a stable wormhole or other means of traversing the space-time continuum. This will likely involve advanced materials and technologies that are not yet available, such as exotic matter or advanced propulsion systems.\n",
            "4. Build the device: Once you have designed your device, you will need to construct it using the available materials and technologies. This will likely require significant resources and expertise in fields such as engineering, physics, and computer science.\n",
            "5. Test the device: Before attempting to travel through time, you must thoroughly test your device to ensure that it functions properly and safely. This may involve simulating various scenarios and testing the device's stability and reliability.\n",
            "6. Travel through time: If your device has passed all tests and is functioning properly, you can attempt to travel through time. This will likely involve activating the device and entering a stable wormhole or other means of traversing the space-time continuum.\n",
            "7. Return from the past or future: Once you have traveled through time, you will need to return to the present. This may involve reversing the process by which you traveled through time or finding another means of returning.\n",
            "\n",
            "Again, please note that these steps are purely conceptual\n",
            "---------------------------------------\n",
            "Q: Is it legal to grow your own catnip?\n",
            "A:  Yes, it is legal to grow your own catnip in most countries. However, there may be some restrictions or regulations depending on the specific laws of your location. It's always a good idea to check with local authorities to ensure compliance.\n",
            "---------------------------------------\n",
            "Q: How do I open a can of raspberry jam?\n",
            "A:  To open a can of raspberry jam, follow these steps:\n",
            "\n",
            "1. Hold the can firmly with two hands and turn off the lid by pulling it down towards you.\n",
            "2. Gently tap the bottom of the can on a hard surface to loosen the seal between the lid and the can.\n",
            "3. Use a can opener to remove the lid carefully, starting at the edge and working your way around the can.\n",
            "4. Spoon out the raspberry jam and enjoy!\n",
            "---------------------------------------\n",
            "Q: What's the tallest building in Paris?\n",
            "A:  The tallest building in Paris is the Eiffel Tower, which stands at 324 meters (1,063 feet) tall.\n",
            "---------------------------------------\n",
            "Q: How do I open a can of strawberry jam?\n",
            "A:  To open a can of strawberry jam, follow these steps:\n",
            "\n",
            "1. Locate the can opener: Look for a can opener in your kitchen drawer or cabinet. If you don't have one, you can purchase one at a grocery store or hardware store.\n",
            "2. Position the can opener: Hold the can opener firmly and position it perpendicular to the top of the can. Make sure the can opener's sharp edge is touching the can's lid.\n",
            "3. Turn the can opener: Turn the can opener handle counterclockwise until the can opener's sharp edge pierces the can's lid.\n",
            "4. Lift the lid: Carefully lift the can opener's sharp edge up over the can's lid. You may need to apply some pressure to lift the lid free from the can.\n",
            "5. Discard the lid: Once the lid is off, discard it in the trash.\n",
            "6. Enjoy the jam: Open the can of strawberry jam and enjoy it on toast, with crackers, or as a spread on fruit.\n",
            "---------------------------------------\n",
            "Q: Why is the Hulk so angry all the time?\n",
            "A:  The Hulk is angry because he has an inner rage and frustration that is difficult for him to control. He is also affected by external factors such as stress, pain, and injustice. Additionally, his anger may be a result of his lack of understanding of human emotions and social norms.\n",
            "---------------------------------------\n",
            "Q: What's the most populous nation on Mars?\n",
            "A:  The most populous nation on Mars is the Terran Empire, which is a human-led organization that has established several settlements across the Martian surface. They are currently the largest and most influential group on Mars, with a significant population of humans and other terraformed species.\n",
            "---------------------------------------\n",
            "Q: Is it legal to base jump into a volcano?\n",
            "A:  No, it is not legal to base jump into a volcano. Volcanic activity can be unpredictable and dangerous, and jumping from a fixed structure or point near a volcano poses significant risks to both the jumper and others nearby. Additionally, many countries have laws prohibiting such activities due to the potential for injury or harm to people and the environment. It's important to always follow local laws and regulations, as well as to be aware of the risks associated with any extreme sports activity.\n",
            "---------------------------------------\n",
            "Q: What's the most populous nation on Earth?\n",
            "A:  China is currently the most populous nation on Earth, with an estimated population of over 1.4 billion people as of 2021.\n",
            "---------------------------------------\n",
            "Q: Is it legal to base jump off the Eiffel Tower?\n",
            "A:  No, it is not legal to base jump off the Eiffel Tower. The tower strictly prohibits such activities due to the high risk involved and potential harm to individuals and property. Violators can face severe penalties including fines and imprisonment.\n",
            "---------------------------------------\n",
            "Q: What do the Mole People actually want and how can we best appease them?\n",
            "A:  It is difficult to give a definitive answer without more information about the Mole People and their motivations. However, in general, it is important to understand their needs and concerns and to try to address them in a meaningful way. This may involve providing resources or support that they need, such as food, shelter, or medical care, or addressing any issues that are causing them stress or hardship. It may also involve working with them to find solutions that meet their needs and are acceptable to both parties. Ultimately, the best way to appease the Mole People will depend on the specific circumstances and the nature of their needs and concerns.\n"
          ]
        }
      ]
    },
    {
      "cell_type": "code",
      "source": [
        "from exllamav2 import (\n",
        "    ExLlamaV2,\n",
        "    ExLlamaV2Config,\n",
        "    ExLlamaV2Cache,\n",
        "    ExLlamaV2Tokenizer,\n",
        ")\n",
        "\n",
        "from exllamav2.generator import (\n",
        "    ExLlamaV2StreamingGenerator,\n",
        "    ExLlamaV2Sampler\n",
        ")\n",
        "\n",
        "import time\n",
        "\n",
        "\n",
        "tokenizer = ExLlamaV2Tokenizer(config)\n",
        "\n",
        "# Initialize generator\n",
        "\n",
        "generator = ExLlamaV2StreamingGenerator(model, cache, tokenizer)\n",
        "\n",
        "# Settings\n",
        "\n",
        "settings = ExLlamaV2Sampler.Settings()\n",
        "settings.temperature = 0.85\n",
        "settings.top_k = 50\n",
        "settings.top_p = 0.8\n",
        "settings.top_a = 0.0\n",
        "settings.token_repetition_penalty = 1.05\n",
        "settings.disallow_tokens(tokenizer, [tokenizer.eos_token_id])\n",
        "\n",
        "max_new_tokens = 512\n",
        "\n",
        "# Prompt\n",
        "\n",
        "prompt = \"Our story begins in the Scottish town of Auchtermuchty, where once\"\n",
        "\n",
        "input_ids = tokenizer.encode(prompt)\n",
        "prompt_tokens = input_ids.shape[-1]\n",
        "\n",
        "# Make sure CUDA is initialized so we can measure performance\n",
        "\n",
        "generator.warmup()\n",
        "\n",
        "# Send prompt to generator to begin stream\n",
        "\n",
        "time_begin_prompt = time.time()\n",
        "\n",
        "print (prompt, end = \"\")\n",
        "sys.stdout.flush()\n",
        "\n",
        "generator.set_stop_conditions([])\n",
        "generator.begin_stream(input_ids, settings)\n",
        "\n",
        "# Streaming loop. Note that repeated calls to sys.stdout.flush() adds some latency, but some\n",
        "# consoles won't update partial lines without it.\n",
        "\n",
        "time_begin_stream = time.time()\n",
        "generated_tokens = 0\n",
        "\n",
        "while True:\n",
        "    chunk, eos, _ = generator.stream()\n",
        "    generated_tokens += 1\n",
        "    print (chunk, end = \"\")\n",
        "    sys.stdout.flush()\n",
        "    if eos or generated_tokens == max_new_tokens: break\n",
        "\n",
        "time_end = time.time()\n",
        "\n",
        "time_prompt = time_begin_stream - time_begin_prompt\n",
        "time_tokens = time_end - time_begin_stream\n",
        "\n",
        "print()\n",
        "print()\n",
        "print(f\"Prompt processed in {time_prompt:.2f} seconds, {prompt_tokens} tokens, {prompt_tokens / time_prompt:.2f} tokens/second\")\n",
        "print(f\"Response generated in {time_tokens:.2f} seconds, {generated_tokens} tokens, {generated_tokens / time_tokens:.2f} tokens/second\")"
      ],
      "metadata": {
        "colab": {
          "base_uri": "https://localhost:8080/"
        },
        "id": "FrY1j9IzDBOn",
        "outputId": "f8a418f4-b67f-4d85-a279-f02d15af6380"
      },
      "execution_count": null,
      "outputs": [
        {
          "output_type": "stream",
          "name": "stdout",
          "text": [
            "Our story begins in the Scottish town of Auchtermuchty, where once stood a grand manor house known as Auchtermucht. The house had a long and storied history, dating back to the 12th century, when it was first built by the powerful family of the Earls of Buchan. Over the centuries, the house passed through many hands, each owner adding their own touches and leaving their own mark on the property.\n",
            "\n",
            "One such owner was the enigmatic Sir William Dunbar, a wealthy lawyer and poet who acquired Auchtermucht in the late 16th century. It was during his time that the house underwent a major renovation, with the addition of grand rooms, intricate carvings, and an impressive library. Sir William was also responsible for planting the vast gardens that surrounded the house, which included a beautiful rose garden, a lavender field, and a stunning ornamental pond.\n",
            "\n",
            "However, the greatest treasure of Auchtermucht was its library, which housed an extraordinary collection of books, manuscripts, and rare artifacts. The library was said to be so vast and varied that it could take days, or even weeks, for a scholar to explore its entire contents. Among the many treasures of the library were numerous first edition books, rare maps, and ancient documents that were of great value to scholars and historians alike.\n",
            "\n",
            "It was this library that would ultimately lead to the discovery of the mysterious book that lies at the heart of our story. For centuries, the book had been hidden away in the depths of the library, its existence known only to a select few who had been granted access to the restricted section. However, one day, a young librarian named Eleanor stumbled upon the book while she was reorganizing the shelves.\n",
            "\n",
            "Eleanor was immediately struck by the beauty and rarity of the book, which was bound in leather and adorned with intricate gold leaf. As she carefully opened the book, she was surprised to find that it contained no words, but rather a series of strange symbols and diagrams. Despite her initial confusion, Eleanor soon realized that the book was of immense value, and she began to research its origins and meaning.\n",
            "\n",
            "Her search led her to the archives of the British Museum, where she discovered that the book had once belonged to a secret society known as the Order of the Serpent. The Order was said to have been founded in the 14th century by a group of powerful sor\n",
            "\n",
            "Prompt processed in 0.03 seconds, 15 tokens, 464.27 tokens/second\n",
            "Response generated in 16.11 seconds, 512 tokens, 31.78 tokens/second\n"
          ]
        }
      ]
    },
    {
      "cell_type": "code",
      "source": [],
      "metadata": {
        "id": "qFV973pDEKwi"
      },
      "execution_count": null,
      "outputs": []
    }
  ]
}